{
 "cells": [
  {
   "cell_type": "code",
   "execution_count": 9,
   "id": "65f2f65f",
   "metadata": {},
   "outputs": [
    {
     "name": "stdout",
     "output_type": "stream",
     "text": [
      "2 3 5 7 11 13 17 19 23 29 31 37 41 43 47 53 59 61 67 71 73 79 83 89 97\n"
     ]
    }
   ],
   "source": [
    "def gg(max):                   # 定義一個 gg 函式\n",
    "  s = set()                    # 設定一個空集合\n",
    "  for n in range(2,max):       # 從 range(2, max) 當中開始依序找質數\n",
    "    if all(n%i>0 for i in s):  # 判斷如果 i 已經存在於集合，且除以集合中的值會有餘數 ( 整除表示非質數 )\n",
    "      s.add(n)                 # 將該數字加入集合 ( 表示質數 )\n",
    "      yield n                  # 使用 yield 記錄狀態\n",
    "print(*gg(100))                # 印出結果"
   ]
  },
  {
   "cell_type": "code",
   "execution_count": 28,
   "id": "7b530541",
   "metadata": {},
   "outputs": [],
   "source": [
    "s = set() \n",
    "for n in range(2,100):       # 從 range(2, max) 當中開始依序找質數\n",
    "    for i in s:\n",
    "        if n%i>0:\n",
    "            s.add(i)\n",
    "        print(s)"
   ]
  },
  {
   "cell_type": "code",
   "execution_count": 19,
   "id": "653722d9",
   "metadata": {},
   "outputs": [
    {
     "name": "stdout",
     "output_type": "stream",
     "text": [
      "2 3 4 5 6 7 8 9 10 11 12 13 14 15 16 17 18 19 20 21 22 23 24 25 26 27 28 29 30 31 32 33 34 35 36 37 38 39 40 41 42 43 44 45 46 47 48 49 50 51 52 53 54 55 56 57 58 59 60 61 62 63 64 65 66 67 68 69 70 71 72 73 74 75 76 77 78 79 80 81 82 83 84 85 86 87 88 89 90 91 92 93 94 95 96 97 98 99\n",
      "2 3 5 7 9 11 13 15 17 19 21 23 25 27 29 31 33 35 37 39 41 43 45 47 49 51 53 55 57 59 61 63 65 67 69 71 73 75 77 79 81 83 85 87 89 91 93 95 97 99\n",
      "2 3 5 7 11 13 17 19 23 25 29 31 35 37 41 43 47 49 53 55 59 61 65 67 71 73 77 79 83 85 89 91 95 97\n",
      "2 3 5 7 11 13 17 19 23 29 31 37 41 43 47 49 53 59 61 67 71 73 77 79 83 89 91 97\n",
      "2 3 5 7 11 13 17 19 23 29 31 37 41 43 47 53 59 61 67 71 73 79 83 89 97\n",
      "2 3 5 7 11 13 17 19 23 29 31 37 41 43 47 53 59 61 67 71 73 79 83 89 97\n"
     ]
    }
   ],
   "source": [
    "a = range(2,100)                            # 產生 2～100 的串列\n",
    "print(*a)\n",
    "b = [i for i in a if i==a[0] or i%a[0]>0]   # 找出第一個質數，並將串列裡該質數的倍數剔除\n",
    "print(*b)\n",
    "c = [i for i in b if i==b[1] or i%b[1]>0]   # 找出第二個質數，並將串列裡該質數的倍數剔除\n",
    "print(*c)\n",
    "d = [i for i in c if i==c[2] or i%c[2]>0]   # 找出第三個質數，並將串列裡該質數的倍數剔除\n",
    "print(*d)\n",
    "e = [i for i in d if i==c[3] or i%c[3]>0]   # 找出第三個質數，並將串列裡該質數的倍數剔除\n",
    "print(*e)\n",
    "f = [i for i in e if i==c[4] or i%c[4]>0]   # 找出第三個質數，並將串列裡該質數的倍數剔除\n",
    "print(*f)"
   ]
  }
 ],
 "metadata": {
  "kernelspec": {
   "display_name": "Python 3 (ipykernel)",
   "language": "python",
   "name": "python3"
  },
  "language_info": {
   "codemirror_mode": {
    "name": "ipython",
    "version": 3
   },
   "file_extension": ".py",
   "mimetype": "text/x-python",
   "name": "python",
   "nbconvert_exporter": "python",
   "pygments_lexer": "ipython3",
   "version": "3.9.7"
  }
 },
 "nbformat": 4,
 "nbformat_minor": 5
}
