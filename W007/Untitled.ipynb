{
 "cells": [
  {
   "cell_type": "code",
   "execution_count": 10,
   "id": "c148d8ca",
   "metadata": {},
   "outputs": [
    {
     "data": {
      "text/plain": [
       "['C:\\\\Users\\\\user\\\\!.School related\\\\004. Pycharm\\\\W007',\n",
       " 'C:\\\\Users\\\\user\\\\anaconda3\\\\python39.zip',\n",
       " 'C:\\\\Users\\\\user\\\\anaconda3\\\\DLLs',\n",
       " 'C:\\\\Users\\\\user\\\\anaconda3\\\\lib',\n",
       " 'C:\\\\Users\\\\user\\\\anaconda3',\n",
       " '',\n",
       " 'C:\\\\Users\\\\user\\\\anaconda3\\\\lib\\\\site-packages',\n",
       " 'C:\\\\Users\\\\user\\\\anaconda3\\\\lib\\\\site-packages\\\\locket-0.2.1-py3.9.egg',\n",
       " 'C:\\\\Users\\\\user\\\\anaconda3\\\\lib\\\\site-packages\\\\win32',\n",
       " 'C:\\\\Users\\\\user\\\\anaconda3\\\\lib\\\\site-packages\\\\win32\\\\lib',\n",
       " 'C:\\\\Users\\\\user\\\\anaconda3\\\\lib\\\\site-packages\\\\Pythonwin',\n",
       " 'C:\\\\Users\\\\user\\\\anaconda3\\\\lib\\\\site-packages\\\\IPython\\\\extensions',\n",
       " 'C:\\\\Users\\\\user\\\\.ipython',\n",
       " 'Users/user/!.School related/004. Pycharm/W007',\n",
       " 'Users/user/!.School related/004. Pycharm/W007',\n",
       " 'Users/user/!.School related/004. Pycharm/W007-2',\n",
       " 'Users/user/!.School related/004. Pycharm/W007-2',\n",
       " 'Users/user/!.School related/004. Pycharm/W007-2',\n",
       " 'Users/user/!.School related/004. Pycharm/W007-2',\n",
       " 'Users/user/!.School related/004. Pycharm/W007-2']"
      ]
     },
     "execution_count": 10,
     "metadata": {},
     "output_type": "execute_result"
    }
   ],
   "source": [
    "import sys\n"
   ]
  },
  {
   "cell_type": "code",
   "execution_count": 14,
   "id": "e5d1cd14",
   "metadata": {},
   "outputs": [
    {
     "data": {
      "text/plain": [
       "['C:\\\\Users\\\\user\\\\!.School related\\\\004. Pycharm\\\\W007',\n",
       " 'C:\\\\Users\\\\user\\\\anaconda3\\\\python39.zip',\n",
       " 'C:\\\\Users\\\\user\\\\anaconda3\\\\DLLs',\n",
       " 'C:\\\\Users\\\\user\\\\anaconda3\\\\lib',\n",
       " 'C:\\\\Users\\\\user\\\\anaconda3',\n",
       " '',\n",
       " 'C:\\\\Users\\\\user\\\\anaconda3\\\\lib\\\\site-packages',\n",
       " 'C:\\\\Users\\\\user\\\\anaconda3\\\\lib\\\\site-packages\\\\locket-0.2.1-py3.9.egg',\n",
       " 'C:\\\\Users\\\\user\\\\anaconda3\\\\lib\\\\site-packages\\\\win32',\n",
       " 'C:\\\\Users\\\\user\\\\anaconda3\\\\lib\\\\site-packages\\\\win32\\\\lib',\n",
       " 'C:\\\\Users\\\\user\\\\anaconda3\\\\lib\\\\site-packages\\\\Pythonwin',\n",
       " 'C:\\\\Users\\\\user\\\\anaconda3\\\\lib\\\\site-packages\\\\IPython\\\\extensions',\n",
       " 'C:\\\\Users\\\\user\\\\.ipython',\n",
       " 'Users/user/!.School related/004. Pycharm/W007',\n",
       " 'Users/user/!.School related/004. Pycharm/W007',\n",
       " 'Users/user/!.School related/004. Pycharm/W007-2',\n",
       " 'Users/user/!.School related/004. Pycharm/W007-2',\n",
       " 'Users/user/!.School related/004. Pycharm/W007-2',\n",
       " 'Users/user/!.School related/004. Pycharm/W007-2',\n",
       " 'Users/user/!.School related/004. Pycharm/W007-2',\n",
       " 'Users/user/!.School related/004. Pycharm/W007_2']"
      ]
     },
     "execution_count": 14,
     "metadata": {},
     "output_type": "execute_result"
    }
   ],
   "source": [
    "import sys\n",
    "sys.path"
   ]
  },
  {
   "cell_type": "code",
   "execution_count": 18,
   "id": "55732d86",
   "metadata": {},
   "outputs": [],
   "source": [
    "import qmod"
   ]
  },
  {
   "cell_type": "code",
   "execution_count": 19,
   "id": "4ee9baca",
   "metadata": {},
   "outputs": [
    {
     "name": "stdout",
     "output_type": "stream",
     "text": [
      "We are running f()\n"
     ]
    }
   ],
   "source": [
    "qmod.f()"
   ]
  },
  {
   "cell_type": "code",
   "execution_count": 16,
   "id": "b8cee790",
   "metadata": {},
   "outputs": [],
   "source": [
    "sys.path.append('W007_2')"
   ]
  }
 ],
 "metadata": {
  "kernelspec": {
   "display_name": "Python 3 (ipykernel)",
   "language": "python",
   "name": "python3"
  },
  "language_info": {
   "codemirror_mode": {
    "name": "ipython",
    "version": 3
   },
   "file_extension": ".py",
   "mimetype": "text/x-python",
   "name": "python",
   "nbconvert_exporter": "python",
   "pygments_lexer": "ipython3",
   "version": "3.9.7"
  }
 },
 "nbformat": 4,
 "nbformat_minor": 5
}
